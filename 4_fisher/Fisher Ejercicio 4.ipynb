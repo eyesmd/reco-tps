{
 "cells": [
  {
   "cell_type": "markdown",
   "metadata": {},
   "source": [
    "# TP 4 - Fisher"
   ]
  },
  {
   "cell_type": "markdown",
   "metadata": {},
   "source": [
    "## Ejercicio 4\n",
    "\n",
    "* _Estudiar el error de clasificación variando la separación de 2 gaussianas isotrópicas utilizando el discriminante lineal de Fisher_"
   ]
  },
  {
   "cell_type": "code",
   "execution_count": null,
   "metadata": {
    "collapsed": true
   },
   "outputs": [],
   "source": [
    "clc;"
   ]
  },
  {
   "cell_type": "code",
   "execution_count": 5,
   "metadata": {},
   "outputs": [
    {
     "name": "stdout",
     "output_type": "stream",
     "text": [
      "\u001b[H\u001b[2J\n",
      "\u001b[H\u001b[2J\n"
     ]
    }
   ],
   "source": [
    "function dir_opt = fisher(D_1, D_2)\n",
    "    within = cov(D_1) + cov(D_2);\n",
    "    dir_opt =(inv(within) * (mean(D_1) - mean(D_2))')';\n",
    "endfunction\n",
    "\n",
    "function scalar = scalar_project(v, w)\n",
    "    if norm(w) == 0\n",
    "        error(\"Fisher yielded zero vector\");\n",
    "    end\n",
    "    scalar = v * (w' / norm(w));\n",
    "endfunction"
   ]
  },
  {
   "cell_type": "code",
   "execution_count": 25,
   "metadata": {},
   "outputs": [],
   "source": [
    "NSAMPLES = 100;\n",
    "SEPARATION = 0:0.1:8;\n",
    "\n",
    "error_percentage = [];\n",
    "for separation = SEPARATION\n",
    "    % Muestreo\n",
    "    model_mu_1 = [0 0];\n",
    "    model_sigma_1 = eye(2) * 2;\n",
    "    model_mu_2 = [0 separation];\n",
    "    model_sigma_2 = model_sigma_1;\n",
    "    D_1 = [];\n",
    "    D_2 = [];\n",
    "    for i = 1:NSAMPLES\n",
    "      D_1(i,:) = mvnrnd(model_mu_1, model_sigma_1);\n",
    "      D_2(i,:) = mvnrnd(model_mu_2, model_sigma_2);\n",
    "    end\n",
    "    \n",
    "    % Dirección Óptima (Fisher)\n",
    "    dir_opt = fisher(D_1, D_2);\n",
    "    \n",
    "    % Proyección y Clasificación\n",
    "    error_count = 0;\n",
    "    frontier = scalar_project((mean(D_1) + mean(D_2))/2, dir_opt);\n",
    "    for i = 1:NSAMPLES\n",
    "      if scalar_project(D_1(i,:), dir_opt) > frontier\n",
    "          error_count++;\n",
    "      end\n",
    "      if scalar_project(D_2(i,:), dir_opt) < frontier\n",
    "          error_count++;\n",
    "      end\n",
    "    end\n",
    "    \n",
    "    % Porcentaje de Error\n",
    "    error_percentage = [error_percentage error_count*100/(2*NSAMPLES)];\n",
    "end"
   ]
  },
  {
   "cell_type": "code",
   "execution_count": 26,
   "metadata": {},
   "outputs": [
    {
     "data": {
      "image/png": "[encoded data removed]",
      "text/plain": [
       "<IPython.core.display.Image object>"
      ]
     },
     "metadata": {},
     "output_type": "display_data"
    }
   ],
   "source": [
    "%% PLOT\n",
    "plot(SEPARATION, error_percentage,\n",
    "     \"marker\", \"s\", \"color\", \"red\")"
   ]
  }
 ],
 "metadata": {
  "kernelspec": {
   "display_name": "Octave",
   "language": "octave",
   "name": "octave"
  },
  "language_info": {
   "file_extension": ".m",
   "help_links": [
    {
     "text": "GNU Octave",
     "url": "https://www.gnu.org/software/octave/support.html"
    },
    {
     "text": "Octave Kernel",
     "url": "https://github.com/Calysto/octave_kernel"
    },
    {
     "text": "MetaKernel Magics",
     "url": "https://github.com/calysto/metakernel/blob/master/metakernel/magics/README.md"
    }
   ],
   "mimetype": "text/x-octave",
   "name": "octave",
   "version": "3.8.2"
  }
 },
 "nbformat": 4,
 "nbformat_minor": 2
}
